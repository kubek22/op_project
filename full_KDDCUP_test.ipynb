{
 "cells": [
  {
   "cell_type": "code",
   "execution_count": 1,
   "id": "72651706",
   "metadata": {},
   "outputs": [],
   "source": [
    "%load_ext autoreload\n",
    "%autoreload 2\n",
    "import pandas as pd\n",
    "import numpy as np\n",
    "from sklearn.model_selection import train_test_split\n",
    "from sklearn.preprocessing import MinMaxScaler, StandardScaler, OneHotEncoder\n",
    "import torch\n",
    "from torch_rbm import RBM as TRBM\n",
    "import datetime\n",
    "from softmax import Net, train\n",
    "import torch.nn as nn\n",
    "import torch.optim as optim\n",
    "from torch.utils.data import TensorDataset, DataLoader\n",
    "import matplotlib.pyplot as plt\n",
    "from sklearn.datasets import fetch_kddcup99"
   ]
  },
  {
   "cell_type": "code",
   "execution_count": 20,
   "id": "ac1c37a1",
   "metadata": {},
   "outputs": [
    {
     "name": "stdout",
     "output_type": "stream",
     "text": [
      "(4898431, 41)\n"
     ]
    }
   ],
   "source": [
    "data = fetch_kddcup99(percent10 = False) # takes a few minutes\n",
    "print(data.data.shape)\n"
   ]
  },
  {
   "cell_type": "code",
   "execution_count": 21,
   "id": "55396582",
   "metadata": {},
   "outputs": [],
   "source": [
    "X, y = data.data, data.target"
   ]
  },
  {
   "cell_type": "code",
   "execution_count": 22,
   "id": "b2a8fb3f",
   "metadata": {},
   "outputs": [],
   "source": [
    "X, X_val, y, y_val = train_test_split(\n",
    "    X, y, test_size=0.2, random_state=42, stratify=y)\n",
    "del data"
   ]
  },
  {
   "cell_type": "code",
   "execution_count": null,
   "id": "652a4395",
   "metadata": {},
   "outputs": [
    {
     "ename": "NameError",
     "evalue": "name 'num_val' is not defined",
     "output_type": "error",
     "traceback": [
      "\u001b[31m---------------------------------------------------------------------------\u001b[39m",
      "\u001b[31mNameError\u001b[39m                                 Traceback (most recent call last)",
      "\u001b[36mCell\u001b[39m\u001b[36m \u001b[39m\u001b[32mIn[5]\u001b[39m\u001b[32m, line 38\u001b[39m\n\u001b[32m     36\u001b[39m X = np.hstack([cat_train, num_train_norm])\n\u001b[32m     37\u001b[39m X_val = np.hstack([cat_val, num_val_norm])\n\u001b[32m---> \u001b[39m\u001b[32m38\u001b[39m \u001b[38;5;28;01mdel\u001b[39;00m num_train, num_val, num_train_std, num_val_std, num_train_norm, \u001b[43mnum_val\u001b[49m, df_train, df_val\n",
      "\u001b[31mNameError\u001b[39m: name 'num_val' is not defined"
     ]
    }
   ],
   "source": [
    "columns = [\n",
    "    \"duration\", \"protocol_type\", \"service\", \"flag\", \"src_bytes\", \"dst_bytes\",\n",
    "    \"land\", \"wrong_fragment\", \"urgent\", \"hot\", \"num_failed_logins\", \"logged_in\",\n",
    "    \"num_compromised\", \"root_shell\", \"su_attempted\", \"num_root\", \"num_file_creations\",\n",
    "    \"num_shells\", \"num_access_files\", \"num_outbound_cmds\", \"is_host_login\", \"is_guest_login\",\n",
    "    \"count\", \"srv_count\", \"serror_rate\", \"srv_serror_rate\", \"rerror_rate\", \"srv_rerror_rate\",\n",
    "    \"same_srv_rate\", \"diff_srv_rate\", \"srv_diff_host_rate\", \"dst_host_count\", \"dst_host_srv_count\",\n",
    "    \"dst_host_same_srv_rate\", \"dst_host_diff_srv_rate\", \"dst_host_same_src_port_rate\",\n",
    "    \"dst_host_srv_diff_host_rate\", \"dst_host_serror_rate\", \"dst_host_srv_serror_rate\",\n",
    "    \"dst_host_rerror_rate\", \"dst_host_srv_rerror_rate\"\n",
    "]\n",
    "\n",
    "df_train = pd.DataFrame(X, columns=columns)\n",
    "df_val = pd.DataFrame(X_val, columns=columns)\n",
    "\n",
    "categorical_cols = [\"protocol_type\", \"service\", \"flag\"]\n",
    "encoder = OneHotEncoder(sparse_output=False)\n",
    "encoder.fit(df_train[categorical_cols])\n",
    "cat_train = encoder.transform(df_train[categorical_cols])\n",
    "cat_val = encoder.transform(df_val[categorical_cols])\n",
    "\n",
    "numeric_cols = [col for col in columns if col not in categorical_cols]\n",
    "num_train = df_train[numeric_cols].astype(float).values\n",
    "num_val = df_val[numeric_cols].astype(float).values\n",
    "\n",
    "# standardization\n",
    "scaler = StandardScaler()\n",
    "num_train_std = scaler.fit_transform(num_train)\n",
    "num_val_std = scaler.transform(num_val)\n",
    "\n",
    "# normalization\n",
    "minmax_scaler = MinMaxScaler(feature_range=(0, 1))\n",
    "num_train_norm = minmax_scaler.fit_transform(num_train_std)\n",
    "num_val_norm = minmax_scaler.transform(num_val_std)\n",
    "\n",
    "X = np.hstack([cat_train, num_train_norm])\n",
    "X_val = np.hstack([cat_val, num_val_norm])\n",
    "del num_train, num_val, num_train_std, num_val_std, num_train_norm, df_train, df_val\n"
   ]
  },
  {
   "cell_type": "code",
   "execution_count": 7,
   "id": "21b23ffc",
   "metadata": {},
   "outputs": [],
   "source": [
    "del df_train, df_val"
   ]
  },
  {
   "cell_type": "code",
   "execution_count": 24,
   "id": "728d5c47",
   "metadata": {},
   "outputs": [],
   "source": [
    "def map_label(label):\n",
    "    if label == b\"normal.\":\n",
    "        return 0\n",
    "    else:\n",
    "        return 1\n",
    "    \n",
    "y = np.array([map_label(lbl) for lbl in y])\n",
    "y_val = np.array([map_label(lbl) for lbl in y_val])"
   ]
  },
  {
   "cell_type": "code",
   "execution_count": 28,
   "id": "76abb099",
   "metadata": {},
   "outputs": [],
   "source": [
    "# X_train_tensor = torch.tensor(X, dtype=torch.double)\n",
    "Y_train_tensor = torch.tensor(np.array(y), dtype=torch.long) \n",
    "# X_val_tensor = torch.tensor(X_val, dtype=torch.double)\n",
    "Y_val_tensor = torch.tensor(np.array(y_val), dtype=torch.long) \n",
    "batch_size = 64"
   ]
  },
  {
   "cell_type": "code",
   "execution_count": 10,
   "id": "903af68d",
   "metadata": {},
   "outputs": [],
   "source": [
    "del X, y, X_val, y_val"
   ]
  },
  {
   "cell_type": "code",
   "execution_count": 11,
   "id": "4e1d8e4d",
   "metadata": {},
   "outputs": [
    {
     "name": "stdout",
     "output_type": "stream",
     "text": [
      "2025-06-02 20:49:08.865632\n",
      "Training RBM using the original RBM code...\n",
      "Iteration: 1 of 20\n",
      "Iteration: 2 of 20\n",
      "Iteration: 3 of 20\n",
      "Iteration: 4 of 20\n",
      "Iteration: 5 of 20\n",
      "Iteration: 6 of 20\n",
      "Iteration: 7 of 20\n",
      "Iteration: 8 of 20\n",
      "Iteration: 9 of 20\n",
      "Iteration: 10 of 20\n",
      "Iteration: 11 of 20\n",
      "Iteration: 12 of 20\n",
      "Iteration: 13 of 20\n",
      "Iteration: 14 of 20\n",
      "Iteration: 15 of 20\n",
      "Iteration: 16 of 20\n",
      "Iteration: 17 of 20\n",
      "Iteration: 18 of 20\n",
      "Iteration: 19 of 20\n",
      "Iteration: 20 of 20\n",
      "RBM training complete.\n",
      "2025-06-02 21:13:59.585470\n"
     ]
    }
   ],
   "source": [
    "device = 'cpu'\n",
    "input_size = X_train_tensor.shape[1] # 122\n",
    "rbm = TRBM(input_size, 50, device)\n",
    "rbm = rbm.to(device)\n",
    "print(datetime.datetime.now())\n",
    "print(\"Training RBM using the original RBM code...\")\n",
    "rbm.fit(X_train_tensor, iterations=20, learning_rate=0.01, cd_n=1, batch_size=256, verbose=True)\n",
    "print(\"RBM training complete.\")\n",
    "print(datetime.datetime.now())"
   ]
  },
  {
   "cell_type": "code",
   "execution_count": 12,
   "id": "1895c6a7",
   "metadata": {},
   "outputs": [],
   "source": [
    "H_train_tensor = rbm.draw_hidden(X_train_tensor)\n",
    "H_val_tensor = rbm.draw_hidden(X_val_tensor)"
   ]
  },
  {
   "cell_type": "code",
   "execution_count": 13,
   "id": "d18a7831",
   "metadata": {},
   "outputs": [
    {
     "name": "stdout",
     "output_type": "stream",
     "text": [
      "2025-06-02 21:15:52.200164\n",
      "Training RBM using the original RBM code...\n",
      "Iteration: 1 of 20\n",
      "Iteration: 2 of 20\n",
      "Iteration: 3 of 20\n",
      "Iteration: 4 of 20\n",
      "Iteration: 5 of 20\n",
      "Iteration: 6 of 20\n",
      "Iteration: 7 of 20\n",
      "Iteration: 8 of 20\n",
      "Iteration: 9 of 20\n",
      "Iteration: 10 of 20\n",
      "Iteration: 11 of 20\n",
      "Iteration: 12 of 20\n",
      "Iteration: 13 of 20\n",
      "Iteration: 14 of 20\n",
      "Iteration: 15 of 20\n",
      "Iteration: 16 of 20\n",
      "Iteration: 17 of 20\n",
      "Iteration: 18 of 20\n",
      "Iteration: 19 of 20\n",
      "Iteration: 20 of 20\n",
      "RBM training complete.\n",
      "2025-06-02 21:35:18.341605\n"
     ]
    }
   ],
   "source": [
    "device = 'cpu'\n",
    "rbm2 = TRBM(50, 50, device)\n",
    "rbm2 = rbm2.to(device)\n",
    "print(datetime.datetime.now())\n",
    "print(\"Training RBM using the original RBM code...\")\n",
    "rbm2.fit(H_train_tensor, iterations=20, learning_rate=0.01, cd_n=1, batch_size=256, verbose=True)\n",
    "print(\"RBM training complete.\")\n",
    "print(datetime.datetime.now())"
   ]
  },
  {
   "cell_type": "code",
   "execution_count": 14,
   "id": "2f6588c8",
   "metadata": {},
   "outputs": [],
   "source": [
    "del X_train_tensor, X_val_tensor"
   ]
  },
  {
   "cell_type": "code",
   "execution_count": 15,
   "id": "b53c7248",
   "metadata": {},
   "outputs": [
    {
     "name": "stderr",
     "output_type": "stream",
     "text": [
      "C:\\Users\\wikto\\AppData\\Local\\Temp\\ipykernel_15228\\747792586.py:1: UserWarning: To copy construct from a tensor, it is recommended to use sourceTensor.detach().clone() or sourceTensor.detach().clone().requires_grad_(True), rather than torch.tensor(sourceTensor).\n",
      "  H_train_tensor = torch.tensor(rbm2.draw_hidden(H_train_tensor), dtype=torch.float)\n",
      "C:\\Users\\wikto\\AppData\\Local\\Temp\\ipykernel_15228\\747792586.py:2: UserWarning: To copy construct from a tensor, it is recommended to use sourceTensor.detach().clone() or sourceTensor.detach().clone().requires_grad_(True), rather than torch.tensor(sourceTensor).\n",
      "  H_val_tensor = torch.tensor(rbm2.draw_hidden(H_val_tensor), dtype=torch.float)\n"
     ]
    }
   ],
   "source": [
    "H_train_tensor = torch.tensor(rbm2.draw_hidden(H_train_tensor), dtype=torch.float)\n",
    "H_val_tensor = torch.tensor(rbm2.draw_hidden(H_val_tensor), dtype=torch.float)\n",
    "dataset_Train = TensorDataset(H_train_tensor, Y_train_tensor)\n",
    "dataset_val = TensorDataset(H_val_tensor, Y_val_tensor)\n",
    "\n",
    "batch_size = 64\n",
    "loader_train = DataLoader(dataset_Train, batch_size=batch_size, shuffle=True)\n",
    "loader_val = DataLoader(dataset_val, batch_size=batch_size, shuffle=True)"
   ]
  },
  {
   "cell_type": "code",
   "execution_count": 30,
   "id": "8754302f",
   "metadata": {},
   "outputs": [
    {
     "name": "stdout",
     "output_type": "stream",
     "text": [
      "epoch: 1, training loss: 6.302307203469652e-06, training accuracy: 99.99834130527536\n",
      "epoch: 1, validation loss: 0.0, validation accuracy: 100.0\n",
      "model saved\n",
      "\n",
      "epoch: 2, training loss: 0.0, training accuracy: 100.0\n",
      "epoch: 2, validation loss: 0.0, validation accuracy: 100.0\n",
      "\n",
      "epoch: 3, training loss: 0.0, training accuracy: 100.0\n",
      "epoch: 3, validation loss: 0.0, validation accuracy: 100.0\n",
      "\n",
      "epoch: 4, training loss: 0.0, training accuracy: 100.0\n",
      "epoch: 4, validation loss: 0.0, validation accuracy: 100.0\n",
      "\n",
      "epoch: 5, training loss: 0.0, training accuracy: 100.0\n",
      "epoch: 5, validation loss: 0.0, validation accuracy: 100.0\n",
      "\n",
      "epoch: 6, training loss: 0.0, training accuracy: 100.0\n",
      "epoch: 6, validation loss: 0.0, validation accuracy: 100.0\n",
      "\n",
      "epoch: 7, training loss: 0.0, training accuracy: 100.0\n",
      "epoch: 7, validation loss: 0.0, validation accuracy: 100.0\n",
      "\n",
      "epoch: 8, training loss: 0.0, training accuracy: 100.0\n",
      "epoch: 8, validation loss: 0.0, validation accuracy: 100.0\n",
      "\n",
      "epoch: 9, training loss: 0.0, training accuracy: 100.0\n",
      "epoch: 9, validation loss: 0.0, validation accuracy: 100.0\n",
      "\n",
      "epoch: 10, training loss: 0.0, training accuracy: 100.0\n",
      "epoch: 10, validation loss: 0.0, validation accuracy: 100.0\n",
      "\n"
     ]
    }
   ],
   "source": [
    "model = Net(50,2)\n",
    "device = 'cpu'\n",
    "criterion = nn.CrossEntropyLoss()\n",
    "optimizer = optim.Adam(model.parameters())\n",
    "# optimizer = optim.SGD(model.parameters())\n",
    "# optimizer = optim.RMSprop(model.parameters())\n",
    "history_Adam = train(10, model, loader_train, loader_val, optimizer, criterion, device, model_path='test')"
   ]
  },
  {
   "cell_type": "code",
   "execution_count": 31,
   "id": "f29c4db1",
   "metadata": {},
   "outputs": [
    {
     "name": "stdout",
     "output_type": "stream",
     "text": [
      "epoch: 1, training loss: 6.855383038013604e-05, training accuracy: 99.91915777095927\n",
      "epoch: 1, validation loss: 6.998001879053111e-06, validation accuracy: 100.0\n",
      "model saved\n",
      "\n",
      "epoch: 2, training loss: 4.864481693516265e-06, training accuracy: 100.0\n",
      "epoch: 2, validation loss: 3.5144281933620827e-06, validation accuracy: 100.0\n",
      "model saved\n",
      "\n",
      "epoch: 3, training loss: 2.856276959448377e-06, training accuracy: 100.0\n",
      "epoch: 3, validation loss: 2.349832650273074e-06, validation accuracy: 100.0\n",
      "model saved\n",
      "\n",
      "epoch: 4, training loss: 2.0317602015870113e-06, training accuracy: 100.0\n",
      "epoch: 4, validation loss: 1.7661513205976723e-06, validation accuracy: 100.0\n",
      "model saved\n",
      "\n",
      "epoch: 5, training loss: 1.578929067154784e-06, training accuracy: 100.0\n",
      "epoch: 5, validation loss: 1.4149677724992268e-06, validation accuracy: 100.0\n",
      "model saved\n",
      "\n",
      "epoch: 6, training loss: 1.2923531301365094e-06, training accuracy: 100.0\n",
      "epoch: 6, validation loss: 1.1814474235983113e-06, validation accuracy: 100.0\n",
      "model saved\n",
      "\n",
      "epoch: 7, training loss: 1.0941702472166374e-06, training accuracy: 100.0\n",
      "epoch: 7, validation loss: 1.0133183075529788e-06, validation accuracy: 100.0\n",
      "model saved\n",
      "\n",
      "epoch: 8, training loss: 9.481825699413318e-07, training accuracy: 100.0\n",
      "epoch: 8, validation loss: 8.872486341265029e-07, validation accuracy: 100.0\n",
      "model saved\n",
      "\n",
      "epoch: 9, training loss: 8.371473122345475e-07, training accuracy: 100.0\n",
      "epoch: 9, validation loss: 7.896838834940251e-07, validation accuracy: 100.0\n",
      "model saved\n",
      "\n",
      "epoch: 10, training loss: 7.504846520345577e-07, training accuracy: 100.0\n",
      "epoch: 10, validation loss: 7.123933944678954e-07, validation accuracy: 100.0\n",
      "model saved\n",
      "\n"
     ]
    }
   ],
   "source": [
    "model = Net(50, 2)\n",
    "device = 'cpu'\n",
    "criterion = nn.CrossEntropyLoss()\n",
    "#optimizer = optim.Adam(model.parameters())\n",
    "optimizer = optim.SGD(model.parameters())\n",
    "# optimizer = optim.RMSprop(model.parameters())\n",
    "history_SGD = train(10, model, loader_train, loader_val, optimizer, criterion, device, model_path='test')"
   ]
  },
  {
   "cell_type": "code",
   "execution_count": 32,
   "id": "81310156",
   "metadata": {},
   "outputs": [
    {
     "name": "stdout",
     "output_type": "stream",
     "text": [
      "epoch: 1, training loss: 2.464393504784342e-07, training accuracy: 99.99956618753356\n",
      "epoch: 1, validation loss: 0.0, validation accuracy: 100.0\n",
      "model saved\n",
      "\n",
      "epoch: 2, training loss: 0.0, training accuracy: 100.0\n",
      "epoch: 2, validation loss: 0.0, validation accuracy: 100.0\n",
      "\n",
      "epoch: 3, training loss: 0.0, training accuracy: 100.0\n",
      "epoch: 3, validation loss: 0.0, validation accuracy: 100.0\n",
      "\n",
      "epoch: 4, training loss: 0.0, training accuracy: 100.0\n",
      "epoch: 4, validation loss: 0.0, validation accuracy: 100.0\n",
      "\n",
      "epoch: 5, training loss: 0.0, training accuracy: 100.0\n",
      "epoch: 5, validation loss: 0.0, validation accuracy: 100.0\n",
      "\n",
      "epoch: 6, training loss: 0.0, training accuracy: 100.0\n",
      "epoch: 6, validation loss: 0.0, validation accuracy: 100.0\n",
      "\n",
      "epoch: 7, training loss: 0.0, training accuracy: 100.0\n",
      "epoch: 7, validation loss: 0.0, validation accuracy: 100.0\n",
      "\n",
      "epoch: 8, training loss: 0.0, training accuracy: 100.0\n",
      "epoch: 8, validation loss: 0.0, validation accuracy: 100.0\n",
      "\n",
      "epoch: 9, training loss: 0.0, training accuracy: 100.0\n",
      "epoch: 9, validation loss: 0.0, validation accuracy: 100.0\n",
      "\n",
      "epoch: 10, training loss: 0.0, training accuracy: 100.0\n",
      "epoch: 10, validation loss: 0.0, validation accuracy: 100.0\n",
      "\n"
     ]
    }
   ],
   "source": [
    "model = Net(50, 2)\n",
    "device = 'cpu'\n",
    "criterion = nn.CrossEntropyLoss()\n",
    "#optimizer = optim.Adam(model.parameters())\n",
    "# optimizer = optim.SGD(model.parameters())\n",
    "optimizer = optim.RMSprop(model.parameters())\n",
    "history_RMS = train(10, model, loader_train, loader_val, optimizer, criterion, device, model_path='test')"
   ]
  },
  {
   "cell_type": "code",
   "execution_count": 33,
   "id": "cf083203",
   "metadata": {},
   "outputs": [
    {
     "name": "stdout",
     "output_type": "stream",
     "text": [
      "epoch: 1, training loss: 4.628450371282036e-06, training accuracy: 99.99946411401204\n",
      "epoch: 1, validation loss: 4.6889751736199485e-07, validation accuracy: 100.0\n",
      "model saved\n",
      "\n",
      "epoch: 2, training loss: 3.2565567773005056e-07, training accuracy: 100.0\n",
      "epoch: 2, validation loss: 2.3522753159000052e-07, validation accuracy: 100.0\n",
      "model saved\n",
      "\n",
      "epoch: 3, training loss: 1.9096682155242677e-07, training accuracy: 100.0\n",
      "epoch: 3, validation loss: 1.5700199464692464e-07, validation accuracy: 100.0\n",
      "model saved\n",
      "\n",
      "epoch: 4, training loss: 1.3571112038235713e-07, training accuracy: 100.0\n",
      "epoch: 4, validation loss: 1.1800431166964575e-07, validation accuracy: 100.0\n",
      "model saved\n",
      "\n",
      "epoch: 5, training loss: 1.0540769356089127e-07, training accuracy: 100.0\n",
      "epoch: 5, validation loss: 9.48119087067104e-08, validation accuracy: 100.0\n",
      "model saved\n",
      "\n",
      "epoch: 6, training loss: 8.625196871522189e-08, training accuracy: 100.0\n",
      "epoch: 6, validation loss: 7.858394281911698e-08, validation accuracy: 100.0\n",
      "model saved\n",
      "\n",
      "epoch: 7, training loss: 7.270931325469234e-08, training accuracy: 100.0\n",
      "epoch: 7, validation loss: 6.751115279732732e-08, validation accuracy: 100.0\n",
      "model saved\n",
      "\n",
      "epoch: 8, training loss: 6.310647372928072e-08, training accuracy: 100.0\n",
      "epoch: 8, validation loss: 5.933198424085628e-08, validation accuracy: 100.0\n",
      "model saved\n",
      "\n",
      "epoch: 9, training loss: 5.6060013440421783e-08, training accuracy: 100.0\n",
      "epoch: 9, validation loss: 5.333302845756984e-08, validation accuracy: 100.0\n",
      "model saved\n",
      "\n",
      "epoch: 10, training loss: 5.042791962851831e-08, training accuracy: 100.0\n",
      "epoch: 10, validation loss: 4.81153566319601e-08, validation accuracy: 100.0\n",
      "model saved\n",
      "\n"
     ]
    }
   ],
   "source": [
    "model = Net(50, 2)\n",
    "device = 'cpu'\n",
    "criterion = nn.CrossEntropyLoss()\n",
    "#optimizer = optim.Adam(model.parameters())\n",
    "# optimizer = optim.SGD(model.parameters())\n",
    "optimizer = optim.Adagrad(model.parameters())\n",
    "history_Adagrad = train(10, model, loader_train, loader_val, optimizer, criterion, device, model_path='test')"
   ]
  },
  {
   "cell_type": "code",
   "execution_count": 34,
   "id": "7cfcf23e",
   "metadata": {},
   "outputs": [
    {
     "name": "stdout",
     "output_type": "stream",
     "text": [
      "epoch: 1, training loss: 3.746715176258066e-06, training accuracy: 99.99785645604817\n",
      "epoch: 1, validation loss: 0.0, validation accuracy: 100.0\n",
      "model saved\n",
      "\n",
      "epoch: 2, training loss: 0.0, training accuracy: 100.0\n",
      "epoch: 2, validation loss: 0.0, validation accuracy: 100.0\n",
      "\n",
      "epoch: 3, training loss: 0.0, training accuracy: 100.0\n",
      "epoch: 3, validation loss: 0.0, validation accuracy: 100.0\n",
      "\n",
      "epoch: 4, training loss: 0.0, training accuracy: 100.0\n",
      "epoch: 4, validation loss: 0.0, validation accuracy: 100.0\n",
      "\n",
      "epoch: 5, training loss: 0.0, training accuracy: 100.0\n",
      "epoch: 5, validation loss: 0.0, validation accuracy: 100.0\n",
      "\n",
      "epoch: 6, training loss: 0.0, training accuracy: 100.0\n",
      "epoch: 6, validation loss: 0.0, validation accuracy: 100.0\n",
      "\n",
      "epoch: 7, training loss: 0.0, training accuracy: 100.0\n",
      "epoch: 7, validation loss: 0.0, validation accuracy: 100.0\n",
      "\n",
      "epoch: 8, training loss: 0.0, training accuracy: 100.0\n",
      "epoch: 8, validation loss: 0.0, validation accuracy: 100.0\n",
      "\n",
      "epoch: 9, training loss: 0.0, training accuracy: 100.0\n",
      "epoch: 9, validation loss: 0.0, validation accuracy: 100.0\n",
      "\n",
      "epoch: 10, training loss: 0.0, training accuracy: 100.0\n",
      "epoch: 10, validation loss: 0.0, validation accuracy: 100.0\n",
      "\n"
     ]
    }
   ],
   "source": [
    "model = Net(50, 2)\n",
    "device = 'cpu'\n",
    "criterion = nn.CrossEntropyLoss()\n",
    "#optimizer = optim.Adam(model.parameters())\n",
    "# optimizer = optim.SGD(model.parameters())\n",
    "optimizer = optim.NAdam(model.parameters())\n",
    "history_NAdam = train(10, model, loader_train, loader_val, optimizer, criterion, device, model_path='test')"
   ]
  },
  {
   "cell_type": "code",
   "execution_count": 35,
   "id": "2d76a314",
   "metadata": {},
   "outputs": [
    {
     "data": {
      "image/png": "[encoded data removed]",
      "text/plain": [
       "<Figure size 640x480 with 1 Axes>"
      ]
     },
     "metadata": {},
     "output_type": "display_data"
    }
   ],
   "source": [
    "plt.plot(history_Adam['loss_train'], label='Adam')\n",
    "plt.plot(history_SGD['loss_train'], label = 'SGD')\n",
    "plt.plot(history_RMS['loss_train'], label = 'RMSProp')\n",
    "plt.plot(history_Adagrad['loss_train'], label = 'Adagrad')\n",
    "plt.plot(history_NAdam['loss_train'], label = 'NAdam')\n",
    "plt.legend()\n",
    "plt.title('Train loss')\n",
    "plt.show()"
   ]
  },
  {
   "cell_type": "code",
   "execution_count": 36,
   "id": "b0120d85",
   "metadata": {},
   "outputs": [
    {
     "data": {
      "image/png": "[encoded data removed]",
      "text/plain": [
       "<Figure size 640x480 with 1 Axes>"
      ]
     },
     "metadata": {},
     "output_type": "display_data"
    }
   ],
   "source": [
    "plt.plot(history_Adam['loss_val'], label='Adam')\n",
    "plt.plot(history_SGD['loss_val'], label = 'SGD')\n",
    "plt.plot(history_RMS['loss_val'], label = 'RMSProp')\n",
    "plt.plot(history_Adagrad['loss_val'], label = 'Adagrad')\n",
    "plt.plot(history_NAdam['loss_val'], label = 'NAdam')\n",
    "plt.legend()\n",
    "plt.title('Validation loss')\n",
    "plt.show()"
   ]
  },
  {
   "cell_type": "code",
   "execution_count": 37,
   "id": "d225af47",
   "metadata": {},
   "outputs": [
    {
     "data": {
      "image/png": "[encoded data removed]",
      "text/plain": [
       "<Figure size 640x480 with 1 Axes>"
      ]
     },
     "metadata": {},
     "output_type": "display_data"
    }
   ],
   "source": [
    "plt.plot(history_Adam['accuracy_train'], label='Adam')\n",
    "plt.plot(history_SGD['accuracy_train'], label = 'SGD')\n",
    "plt.plot(history_RMS['accuracy_train'], label = 'RMSProp')\n",
    "plt.plot(history_Adagrad['accuracy_train'], label = 'Adagrad')\n",
    "plt.plot(history_NAdam['accuracy_train'], label = 'NAdam')\n",
    "plt.legend()\n",
    "plt.title('Train accuracy')\n",
    "plt.show()"
   ]
  },
  {
   "cell_type": "code",
   "execution_count": 38,
   "id": "7bf1b9d2",
   "metadata": {},
   "outputs": [
    {
     "data": {
      "image/png": "[encoded data removed]",
      "text/plain": [
       "<Figure size 640x480 with 1 Axes>"
      ]
     },
     "metadata": {},
     "output_type": "display_data"
    }
   ],
   "source": [
    "plt.plot(history_Adam['accuracy_val'], label='Adam')\n",
    "plt.plot(history_SGD['accuracy_val'], label = 'SGD')\n",
    "plt.plot(history_RMS['accuracy_val'], label = 'RMSProp')\n",
    "plt.plot(history_Adagrad['accuracy_val'], label = 'Adagrad')\n",
    "plt.plot(history_NAdam['accuracy_val'], label = 'NAdam')\n",
    "plt.legend()\n",
    "plt.title('Validation accuracy')\n",
    "plt.show()"
   ]
  },
  {
   "cell_type": "code",
   "execution_count": null,
   "id": "51c33875",
   "metadata": {},
   "outputs": [],
   "source": []
  },
  {
   "cell_type": "code",
   "execution_count": null,
   "id": "40a5d4e6",
   "metadata": {},
   "outputs": [],
   "source": []
  }
 ],
 "metadata": {
  "kernelspec": {
   "display_name": ".venv",
   "language": "python",
   "name": "python3"
  },
  "language_info": {
   "codemirror_mode": {
    "name": "ipython",
    "version": 3
   },
   "file_extension": ".py",
   "mimetype": "text/x-python",
   "name": "python",
   "nbconvert_exporter": "python",
   "pygments_lexer": "ipython3",
   "version": "3.12.1"
  }
 },
 "nbformat": 4,
 "nbformat_minor": 5
}
