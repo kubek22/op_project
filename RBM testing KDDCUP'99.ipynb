{
 "cells": [
  {
   "cell_type": "code",
   "id": "c8fc26a0",
   "metadata": {
    "ExecuteTime": {
     "end_time": "2025-05-08T16:19:54.804731Z",
     "start_time": "2025-05-08T16:19:54.727615Z"
    }
   },
   "source": [
    "import numpy as np\n",
    "import pandas as pd\n",
    "from collections import Counter\n",
    "from rbm import BRBM as RBM\n",
    "from sklearn.datasets import fetch_kddcup99\n",
    "from sklearn.model_selection import train_test_split\n",
    "from sklearn.preprocessing import OneHotEncoder, StandardScaler, MinMaxScaler\n",
    "from sklearn.metrics import confusion_matrix\n",
    "import datetime\n",
    "import matplotlib.pyplot as plt\n",
    "from sklearn.metrics import roc_curve, auc"
   ],
   "outputs": [],
   "execution_count": 1
  },
  {
   "cell_type": "code",
   "id": "ab70ca81",
   "metadata": {
    "jupyter": {
     "is_executing": true
    },
    "ExecuteTime": {
     "start_time": "2025-05-08T16:19:54.804731Z"
    }
   },
   "source": [
    "kdd_data = fetch_kddcup99(percent10 = False) # takes a few minutes\n",
    "X, y = kdd_data.data, kdd_data.target"
   ],
   "outputs": [],
   "execution_count": null
  },
  {
   "cell_type": "code",
   "id": "f4d76394",
   "metadata": {
    "ExecuteTime": {
     "end_time": "2025-05-08T14:20:26.740674Z",
     "start_time": "2025-05-08T14:20:25.424478Z"
    }
   },
   "source": [
    "kdd_data = fetch_kddcup99(percent10 = True) # faster approach (but number of features later = 118 not 122 :/)\n",
    "X, y = kdd_data.data, kdd_data.target"
   ],
   "outputs": [],
   "execution_count": 4
  },
  {
   "cell_type": "code",
   "id": "0e927f81",
   "metadata": {
    "ExecuteTime": {
     "end_time": "2025-05-08T14:20:33.217765Z",
     "start_time": "2025-05-08T14:20:32.650222Z"
    }
   },
   "source": [
    "# TODO do it exactly same way as they done it in paper\n",
    "X, X_test, y, y_test = train_test_split(\n",
    "    X, y, test_size=0.3, random_state=42, stratify=y)"
   ],
   "outputs": [],
   "execution_count": 5
  },
  {
   "metadata": {
    "ExecuteTime": {
     "end_time": "2025-05-08T14:20:35.050602Z",
     "start_time": "2025-05-08T14:20:35.043156Z"
    }
   },
   "cell_type": "code",
   "source": "X_test.shape",
   "id": "99083ff6c68481f5",
   "outputs": [
    {
     "data": {
      "text/plain": [
       "(148207, 41)"
      ]
     },
     "execution_count": 6,
     "metadata": {},
     "output_type": "execute_result"
    }
   ],
   "execution_count": 6
  },
  {
   "cell_type": "code",
   "id": "1eb898a2",
   "metadata": {
    "scrolled": false,
    "ExecuteTime": {
     "end_time": "2025-05-08T14:20:37.057032Z",
     "start_time": "2025-05-08T14:20:37.053585Z"
    }
   },
   "source": [
    "X.shape"
   ],
   "outputs": [
    {
     "data": {
      "text/plain": [
       "(345814, 41)"
      ]
     },
     "execution_count": 7,
     "metadata": {},
     "output_type": "execute_result"
    }
   ],
   "execution_count": 7
  },
  {
   "metadata": {
    "ExecuteTime": {
     "end_time": "2025-05-08T14:21:04.091089Z",
     "start_time": "2025-05-08T14:21:04.085972Z"
    }
   },
   "cell_type": "code",
   "source": "X[:5, :]",
   "id": "4cdda9a7f4babfe",
   "outputs": [
    {
     "data": {
      "text/plain": [
       "array([[0, b'icmp', b'ecr_i', b'SF', 1032, 0, 0, 0, 0, 0, 0, 0, 0, 0, 0,\n",
       "        0, 0, 0, 0, 0, 0, 0, 511, 511, 0.0, 0.0, 0.0, 0.0, 1.0, 0.0, 0.0,\n",
       "        255, 255, 1.0, 0.0, 1.0, 0.0, 0.0, 0.0, 0.0, 0.0],\n",
       "       [0, b'icmp', b'ecr_i', b'SF', 1032, 0, 0, 0, 0, 0, 0, 0, 0, 0, 0,\n",
       "        0, 0, 0, 0, 0, 0, 0, 511, 511, 0.0, 0.0, 0.0, 0.0, 1.0, 0.0, 0.0,\n",
       "        255, 255, 1.0, 0.0, 1.0, 0.0, 0.0, 0.0, 0.0, 0.0],\n",
       "       [0, b'icmp', b'ecr_i', b'SF', 520, 0, 0, 0, 0, 0, 0, 0, 0, 0, 0,\n",
       "        0, 0, 0, 0, 0, 0, 0, 457, 457, 0.0, 0.0, 0.0, 0.0, 1.0, 0.0, 0.0,\n",
       "        255, 255, 1.0, 0.0, 1.0, 0.0, 0.0, 0.0, 0.0, 0.0],\n",
       "       [0, b'icmp', b'ecr_i', b'SF', 1032, 0, 0, 0, 0, 0, 0, 0, 0, 0, 0,\n",
       "        0, 0, 0, 0, 0, 0, 0, 511, 511, 0.0, 0.0, 0.0, 0.0, 1.0, 0.0, 0.0,\n",
       "        255, 255, 1.0, 0.0, 1.0, 0.0, 0.0, 0.0, 0.0, 0.0],\n",
       "       [0, b'icmp', b'ecr_i', b'SF', 1032, 0, 0, 0, 0, 0, 0, 0, 0, 0, 0,\n",
       "        0, 0, 0, 0, 0, 0, 0, 511, 511, 0.0, 0.0, 0.0, 0.0, 1.0, 0.0, 0.0,\n",
       "        255, 255, 1.0, 0.0, 1.0, 0.0, 0.0, 0.0, 0.0, 0.0]], dtype=object)"
      ]
     },
     "execution_count": 9,
     "metadata": {},
     "output_type": "execute_result"
    }
   ],
   "execution_count": 9
  },
  {
   "metadata": {
    "ExecuteTime": {
     "end_time": "2025-05-08T14:21:38.817030Z",
     "start_time": "2025-05-08T14:21:38.809981Z"
    }
   },
   "cell_type": "code",
   "source": "y",
   "id": "841736301c7a2cd2",
   "outputs": [
    {
     "data": {
      "text/plain": [
       "array([b'smurf.', b'smurf.', b'smurf.', ..., b'normal.', b'neptune.',\n",
       "       b'neptune.'], dtype=object)"
      ]
     },
     "execution_count": 10,
     "metadata": {},
     "output_type": "execute_result"
    }
   ],
   "execution_count": 10
  },
  {
   "cell_type": "code",
   "id": "a35e2760",
   "metadata": {
    "ExecuteTime": {
     "end_time": "2025-05-08T14:22:06.652903Z",
     "start_time": "2025-05-08T14:22:06.550448Z"
    }
   },
   "source": [
    "y = np.array([label.decode('utf8') for label in y])\n",
    "y_test = np.array([label.decode('utf8') for label in y_test])\n",
    "print(y[:5])"
   ],
   "outputs": [
    {
     "name": "stdout",
     "output_type": "stream",
     "text": [
      "['smurf.' 'smurf.' 'smurf.' 'smurf.' 'smurf.']\n"
     ]
    }
   ],
   "execution_count": 11
  },
  {
   "cell_type": "code",
   "id": "f49c3ae8",
   "metadata": {
    "scrolled": false,
    "ExecuteTime": {
     "end_time": "2025-05-08T14:22:30.627372Z",
     "start_time": "2025-05-08T14:22:30.560901Z"
    }
   },
   "source": [
    "for label, count in Counter(y).items():\n",
    "    print(f\"{label}: {count}\")"
   ],
   "outputs": [
    {
     "name": "stdout",
     "output_type": "stream",
     "text": [
      "smurf.: 196553\n",
      "back.: 1542\n",
      "neptune.: 75041\n",
      "normal.: 68094\n",
      "portsweep.: 728\n",
      "teardrop.: 685\n",
      "guess_passwd.: 37\n",
      "satan.: 1112\n",
      "ipsweep.: 873\n",
      "warezclient.: 714\n",
      "pod.: 185\n",
      "land.: 15\n",
      "nmap.: 162\n",
      "phf.: 3\n",
      "buffer_overflow.: 21\n",
      "ftp_write.: 6\n",
      "warezmaster.: 14\n",
      "multihop.: 5\n",
      "perl.: 2\n",
      "loadmodule.: 6\n",
      "rootkit.: 7\n",
      "imap.: 8\n",
      "spy.: 1\n"
     ]
    }
   ],
   "execution_count": 12
  },
  {
   "cell_type": "code",
   "id": "f63988d6",
   "metadata": {
    "ExecuteTime": {
     "end_time": "2025-05-08T14:33:22.573598Z",
     "start_time": "2025-05-08T14:33:21.229911Z"
    }
   },
   "source": [
    "# TODO check this - also maybe this stuff is/should be in rbm class (?)\n",
    "def softmax(z):\n",
    "    z_exp = np.exp(z - np.max(z, axis=1, keepdims=True))\n",
    "    return z_exp / np.sum(z_exp, axis=1, keepdims=True)\n",
    "\n",
    "def one_hot_encode_labels(y, class_list):\n",
    "    n = len(y)\n",
    "    K = len(class_list)\n",
    "    one_hot = np.zeros((n, K))\n",
    "    label_to_idx = {label: idx for idx, label in enumerate(class_list)}\n",
    "    for i, label in enumerate(y):\n",
    "        one_hot[i, label_to_idx[label]] = 1\n",
    "    return one_hot, label_to_idx\n",
    "\n",
    "def softmax_train(X, Y, lr=0.01, iterations=500, verbose=False):\n",
    "    # Y as one-hot labels\n",
    "    n_samples, n_features = X.shape\n",
    "    K = Y.shape[1]\n",
    "    W = np.random.randn(n_features, K) * 0.01\n",
    "    b = np.zeros((1, K))\n",
    "    \n",
    "    for i in range(iterations):\n",
    "        logits = np.dot(X, W) + b\n",
    "        probs = softmax(logits)\n",
    "        if verbose and i % 100 == 0:\n",
    "            loss = -np.sum(Y * np.log(probs + 1e-8)) / n_samples\n",
    "            print(f\"Iteration {i}: Loss = {loss:.4f}\")\n",
    "            \n",
    "        grad_logits = (probs - Y) / n_samples\n",
    "        grad_W = np.dot(X.T, grad_logits)\n",
    "        grad_b = np.sum(grad_logits, axis=0, keepdims=True)\n",
    "        \n",
    "        W -= lr * grad_W\n",
    "        b -= lr * grad_b\n",
    "    return W, b\n",
    "\n",
    "def softmax_predict(X, W, b):\n",
    "    logits = np.dot(X, W) + b\n",
    "    probs = softmax(logits)\n",
    "    return np.argmax(probs, axis=1)\n",
    "\n",
    "\n",
    "# source: https://kdd.ics.uci.edu/databases/kddcup99/kddcup99.html\n",
    "columns = [\n",
    "    \"duration\", \"protocol_type\", \"service\", \"flag\", \"src_bytes\", \"dst_bytes\",\n",
    "    \"land\", \"wrong_fragment\", \"urgent\", \"hot\", \"num_failed_logins\", \"logged_in\",\n",
    "    \"num_compromised\", \"root_shell\", \"su_attempted\", \"num_root\", \"num_file_creations\",\n",
    "    \"num_shells\", \"num_access_files\", \"num_outbound_cmds\", \"is_host_login\", \"is_guest_login\",\n",
    "    \"count\", \"srv_count\", \"serror_rate\", \"srv_serror_rate\", \"rerror_rate\", \"srv_rerror_rate\",\n",
    "    \"same_srv_rate\", \"diff_srv_rate\", \"srv_diff_host_rate\", \"dst_host_count\", \"dst_host_srv_count\",\n",
    "    \"dst_host_same_srv_rate\", \"dst_host_diff_srv_rate\", \"dst_host_same_src_port_rate\",\n",
    "    \"dst_host_srv_diff_host_rate\", \"dst_host_serror_rate\", \"dst_host_srv_serror_rate\",\n",
    "    \"dst_host_rerror_rate\", \"dst_host_srv_rerror_rate\"\n",
    "]\n",
    "\n",
    "df_train = pd.DataFrame(X, columns=columns)\n",
    "df_test = pd.DataFrame(X_test, columns=columns)\n",
    "\n",
    "# categorical features to one hot encoding, like paper does\n",
    "categorical_cols = [\"protocol_type\", \"service\", \"flag\"]\n",
    "encoder = OneHotEncoder(sparse_output=False)\n",
    "encoder.fit(df_train[categorical_cols])\n",
    "cat_train = encoder.transform(df_train[categorical_cols])\n",
    "cat_test = encoder.transform(df_test[categorical_cols])\n",
    "\n",
    "# 38 numeric features\n",
    "numeric_cols = [col for col in columns if col not in categorical_cols]\n",
    "num_train = df_train[numeric_cols].astype(float).values\n",
    "num_test = df_test[numeric_cols].astype(float).values\n",
    "\n",
    "# standarization\n",
    "scaler = StandardScaler()\n",
    "num_train_std = scaler.fit_transform(num_train)\n",
    "num_test_std = scaler.transform(num_test)\n",
    "\n",
    "# normalization\n",
    "minmax_scaler = MinMaxScaler(feature_range=(0, 1))\n",
    "num_train_norm = minmax_scaler.fit_transform(num_train_std)\n",
    "num_test_norm = minmax_scaler.transform(num_test_std)\n",
    "\n",
    "X_train_processed = np.hstack([cat_train, num_train_norm])\n",
    "X_test_processed = np.hstack([cat_test, num_test_norm])\n",
    "\n",
    "# 122 columns, just like in paper\n",
    "print(\"Processed training data shape:\", X_train_processed.shape)\n",
    "print(\"Processed testing data shape:\", X_test_processed.shape)"
   ],
   "outputs": [
    {
     "name": "stdout",
     "output_type": "stream",
     "text": [
      "Processed training data shape: (345814, 118)\n",
      "Processed testing data shape: (148207, 118)\n"
     ]
    }
   ],
   "execution_count": 13
  },
  {
   "cell_type": "code",
   "id": "73ded948",
   "metadata": {
    "ExecuteTime": {
     "end_time": "2025-05-08T14:34:34.598752Z",
     "start_time": "2025-05-08T14:34:34.104041Z"
    }
   },
   "source": [
    "# attack types to 4 basic groups - based on \"A comparison of the NSL-KDD dataset and its predecessor the KDD Cup ’99 dataset\", Yassine SAHLI\n",
    "dos_attacks = {\"back.\", \"land.\", \"neptune.\", \"pod.\", \"smurf.\", \"teardrop.\"}\n",
    "probing_attacks = {\"ipsweep.\", \"nmap.\", \"portsweep.\", \"satan.\"}\n",
    "u2r_attacks = {\"buffer_overflow.\", \"loadmodule.\", \"perl.\", \"rootkit.\"}\n",
    "r2l_attacks = {\"ftp_write.\", \"guess_passwd.\", \"imap.\", \"multihop.\", \"phf.\", \"spy.\", \"warezclient.\", \"warezmaster.\"}\n",
    "\n",
    "def map_label(label):\n",
    "    if label == \"normal.\":\n",
    "        return \"normal\"\n",
    "    elif label in dos_attacks:\n",
    "        return \"DoS\"\n",
    "    elif label in r2l_attacks:\n",
    "        return \"R2L\"\n",
    "    elif label in u2r_attacks:\n",
    "        return \"U2R\"\n",
    "    elif label in probing_attacks:\n",
    "        return \"Probing\"\n",
    "    else:\n",
    "        return label\n",
    "    \n",
    "y_train_mapped = np.array([map_label(lbl) for lbl in y])\n",
    "y_test_mapped = np.array([map_label(lbl) for lbl in y_test])\n",
    "\n",
    "class_list = [\"normal\", \"DoS\", \"R2L\", \"U2R\", \"Probing\"]\n",
    "\n",
    "# normal vs attack label\n",
    "def binary_label(label):\n",
    "    return \"normal\" if label == \"normal\" else \"attack\"\n",
    "\n",
    "y_train_binary = np.array([binary_label(lbl) for lbl in y_train_mapped])\n",
    "y_test_binary = np.array([binary_label(lbl) for lbl in y_test_mapped])\n",
    "\n",
    "# one hot labels for softmax (multiclass)\n",
    "Y_train_onehot, label_to_idx = one_hot_encode_labels(y_train_mapped, class_list)\n",
    "Y_test_onehot, _ = one_hot_encode_labels(y_test_mapped, class_list)"
   ],
   "outputs": [],
   "execution_count": 15
  },
  {
   "metadata": {
    "ExecuteTime": {
     "end_time": "2025-05-08T15:10:12.220072Z",
     "start_time": "2025-05-08T15:10:12.215384Z"
    }
   },
   "cell_type": "code",
   "source": "Y_train_onehot[:10] # all classes considered",
   "id": "b3809d25a6bf69b9",
   "outputs": [
    {
     "data": {
      "text/plain": [
       "array([[0., 1., 0., 0., 0.],\n",
       "       [0., 1., 0., 0., 0.],\n",
       "       [0., 1., 0., 0., 0.],\n",
       "       [0., 1., 0., 0., 0.],\n",
       "       [0., 1., 0., 0., 0.],\n",
       "       [0., 1., 0., 0., 0.],\n",
       "       [0., 1., 0., 0., 0.],\n",
       "       [0., 1., 0., 0., 0.],\n",
       "       [0., 1., 0., 0., 0.],\n",
       "       [0., 1., 0., 0., 0.]])"
      ]
     },
     "execution_count": 23,
     "metadata": {},
     "output_type": "execute_result"
    }
   ],
   "execution_count": 23
  },
  {
   "cell_type": "code",
   "id": "e483111b",
   "metadata": {
    "ExecuteTime": {
     "end_time": "2025-05-08T14:54:45.575568Z",
     "start_time": "2025-05-08T14:35:59.059128Z"
    }
   },
   "source": [
    "n_visible = X_train_processed.shape[1]  # 122\n",
    "n_hidden = 50\n",
    "rbm = RBM(n_visible=n_visible, n_hidden=n_hidden)\n",
    "\n",
    "print(datetime.datetime.now())\n",
    "print(\"Training RBM using the original RBM code...\")\n",
    "rbm.fit(X_train_processed, iterations=20, learning_rate=0.01, cd_n=1)\n",
    "print(\"RBM training complete.\")\n",
    "print(datetime.datetime.now())\n",
    "\n",
    "H_train = np.array([rbm.draw_hidden(x) for x in X_train_processed])\n",
    "H_test = np.array([rbm.draw_hidden(x) for x in X_test_processed])\n",
    "\n",
    "print(datetime.datetime.now())\n",
    "\n",
    "# softmax multiclass classification\n",
    "print(\"Training softmax classifier on RBM features...\")\n",
    "W_softmax, b_softmax = softmax_train(H_train, Y_train_onehot, lr=0.1, iterations=500, verbose=True)\n",
    "\n",
    "test_preds_idx = softmax_predict(H_test, W_softmax, b_softmax)\n",
    "test_preds_labels = [class_list[idx] for idx in test_preds_idx]\n",
    "\n",
    "# not normal -> attack\n",
    "test_preds_binary = np.array([\"normal\" if lbl == \"normal\" else \"attack\" for lbl in test_preds_labels])\n",
    "\n",
    "print(datetime.datetime.now())\n"
   ],
   "outputs": [
    {
     "name": "stdout",
     "output_type": "stream",
     "text": [
      "2025-05-08 16:35:59.071146\n",
      "Training RBM using the original RBM code...\n",
      "RBM training complete.\n",
      "2025-05-08 16:54:01.302492\n",
      "2025-05-08 16:54:16.172231\n",
      "Training softmax classifier on RBM features...\n",
      "Iteration 0: Loss = 1.6364\n",
      "Iteration 100: Loss = 0.1271\n",
      "Iteration 200: Loss = 0.1018\n",
      "Iteration 300: Loss = 0.0920\n",
      "Iteration 400: Loss = 0.0865\n",
      "2025-05-08 16:54:45.557921\n"
     ]
    }
   ],
   "execution_count": 16
  },
  {
   "cell_type": "code",
   "id": "37e72a7d",
   "metadata": {
    "ExecuteTime": {
     "end_time": "2025-05-08T14:56:34.263406Z",
     "start_time": "2025-05-08T14:56:34.251432Z"
    }
   },
   "source": [
    "TP = np.sum((y_test_binary == \"attack\") & (test_preds_binary == \"attack\"))\n",
    "FN = np.sum((y_test_binary == \"attack\") & (test_preds_binary == \"normal\"))\n",
    "TN = np.sum((y_test_binary == \"normal\") & (test_preds_binary == \"normal\"))\n",
    "FP = np.sum((y_test_binary == \"normal\") & (test_preds_binary == \"attack\"))\n",
    "\n",
    "total = len(y_test_binary)\n",
    "accuracy = ((TP + TN) / total) * 100\n",
    "\n",
    "TP_rate = (TP / (TP + FN)) * 100\n",
    "FN_rate = (FN / (TP + FN)) * 100\n",
    "TN_rate = (TN / (TN + FP)) * 100\n",
    "FP_rate = (FP / (TN + FP)) * 100\n",
    "\n",
    "print(\"------ Evaluation binary ------\")\n",
    "print(f\"Accuracy: {accuracy:.2f}%\")\n",
    "print(f\"TP (Detection rate): {TP_rate:.2f}%\")\n",
    "print(f\"TN: {TN_rate:.2f}%\")\n",
    "print(f\"FP: {FP_rate:.2f}%\")\n",
    "print(f\"FN: {FN_rate:.2f}%\")\n"
   ],
   "outputs": [
    {
     "name": "stdout",
     "output_type": "stream",
     "text": [
      "------ Evaluation binary ------\n",
      "Accuracy: 98.56%\n",
      "TP (Detection rate): 98.48%\n",
      "TN: 98.90%\n",
      "FP: 1.10%\n",
      "FN: 1.52%\n"
     ]
    }
   ],
   "execution_count": 17
  },
  {
   "cell_type": "code",
   "id": "a46aeb33",
   "metadata": {
    "ExecuteTime": {
     "end_time": "2025-05-08T14:56:57.630830Z",
     "start_time": "2025-05-08T14:56:57.445926Z"
    }
   },
   "source": [
    "logits = np.dot(H_test, W_softmax) + b_softmax\n",
    "probs = softmax(logits)\n",
    "\n",
    "normal_scores = probs[:, 0]  # probability of normal\n",
    "attack_scores = 1 - normal_scores\n",
    "\n",
    "y_true_attack = np.array([1 if label != \"normal\" else 0 for label in y_test_binary])\n",
    "y_true_normal = np.array([1 if label == \"normal\" else 0 for label in y_test_binary])\n",
    "\n",
    "fpr_attack, tpr_attack, _ = roc_curve(y_true_attack, attack_scores)\n",
    "roc_auc_attack = auc(fpr_attack, tpr_attack)\n",
    "\n",
    "fpr_normal, tpr_normal, _ = roc_curve(y_true_normal, normal_scores)\n",
    "roc_auc_normal = auc(fpr_normal, tpr_normal)\n",
    "\n",
    "plt.figure(figsize=(8, 6))\n",
    "plt.plot(fpr_attack, tpr_attack, color='red', lw=2,\n",
    "         label='Attack ROC curve (area = %0.2f)' % roc_auc_attack)\n",
    "plt.plot(fpr_normal, tpr_normal, color='blue', lw=2,\n",
    "         label='Normal ROC curve (area = %0.2f)' % roc_auc_normal)\n",
    "plt.plot([0, 1], [0, 1], color='gray', lw=2, linestyle='--')\n",
    "plt.xlabel('False Positive Rate')\n",
    "plt.ylabel('True Positive Rate')\n",
    "plt.title('ROC Curves for Attack and Normal Classes')\n",
    "plt.legend(loc=\"lower right\")\n",
    "plt.show()"
   ],
   "outputs": [
    {
     "data": {
      "text/plain": [
       "<Figure size 800x600 with 1 Axes>"
      ],
      "image/png": "[encoded data removed]"
     },
     "metadata": {},
     "output_type": "display_data"
    }
   ],
   "execution_count": 18
  },
  {
   "cell_type": "code",
   "id": "dfd9f9b8",
   "metadata": {
    "ExecuteTime": {
     "end_time": "2025-05-08T15:09:15.397244Z",
     "start_time": "2025-05-08T15:09:15.269121Z"
    }
   },
   "source": [
    "print(\"------ Evaluation multiclass ------\")\n",
    "\n",
    "y_test_mapped = np.array([map_label(label) for label in y_test])\n",
    "\n",
    "class_order = class_list\n",
    "results = []\n",
    "for cls in class_order:\n",
    "    total = np.sum(y_test_mapped == cls)\n",
    "    correct = np.sum((y_test_mapped == cls) & (np.array(test_preds_labels) == cls))\n",
    "    accuracy = (correct / total * 100) if total > 0 else 0\n",
    "    results.append({\n",
    "        \"Attack Class\": cls,\n",
    "        \"Number of Attacks\": total,\n",
    "        \"Accurately Classified\": correct,\n",
    "        \"Accuracy\": f\"{accuracy:.2f}%\"\n",
    "    })\n",
    "\n",
    "df_results = pd.DataFrame(results)\n",
    "\n",
    "total_attacks = df_results[\"Number of Attacks\"].sum()\n",
    "total_correct = df_results[\"Accurately Classified\"].sum()\n",
    "overall_accuracy = (total_correct / total_attacks * 100) if total_attacks > 0 else 0\n",
    "\n",
    "total_row = {\n",
    "    \"Attack Class\": \"Total\",\n",
    "    \"Number of Attacks\": total_attacks,\n",
    "    \"Accurately Classified\": total_correct,\n",
    "    \"Accuracy\": f\"{overall_accuracy:.2f}%\"\n",
    "}\n",
    "df_results = pd.concat([df_results, pd.DataFrame([total_row])], ignore_index=True)\n",
    "print(df_results.to_string(index=False))"
   ],
   "outputs": [
    {
     "name": "stdout",
     "output_type": "stream",
     "text": [
      "------ Evaluation multiclass ------\n",
      "Attack Class  Number of Attacks  Accurately Classified Accuracy\n",
      "      normal              29184                  28863   98.90%\n",
      "         DoS             117437                 116480   99.19%\n",
      "         R2L                338                      0    0.00%\n",
      "         U2R                 16                      0    0.00%\n",
      "     Probing               1232                      0    0.00%\n",
      "       Total             148207                 145343   98.07%\n"
     ]
    }
   ],
   "execution_count": 19
  },
  {
   "cell_type": "code",
   "id": "81a9febb",
   "metadata": {
    "ExecuteTime": {
     "end_time": "2025-05-08T15:09:29.366784Z",
     "start_time": "2025-05-08T15:09:29.124889Z"
    }
   },
   "source": [
    "cm_multi = confusion_matrix(y_test_mapped, test_preds_labels, labels=class_order)\n",
    "\n",
    "import seaborn as sns\n",
    "plt.figure(figsize=(8, 6))\n",
    "sns.heatmap(cm_multi, annot=True, fmt=\"d\", cmap=\"Blues\", xticklabels=class_order, yticklabels=class_order)\n",
    "plt.xlabel(\"Predicted Labels\")\n",
    "plt.ylabel(\"True Labels\")\n",
    "plt.title(\"Confusion Matrix - Multiclass Classification\")\n",
    "plt.tight_layout()\n",
    "plt.show()"
   ],
   "outputs": [
    {
     "data": {
      "text/plain": [
       "<Figure size 800x600 with 2 Axes>"
      ],
      "image/png": "[encoded data removed]"
     },
     "metadata": {},
     "output_type": "display_data"
    }
   ],
   "execution_count": 20
  },
  {
   "cell_type": "markdown",
   "id": "a06ceb27",
   "metadata": {},
   "source": [
    "### Old results (train dataset - full KDDCUP99, test dataset - 10% KDDCUP99)"
   ]
  },
  {
   "cell_type": "code",
   "execution_count": 71,
   "id": "55356aad",
   "metadata": {},
   "outputs": [
    {
     "name": "stdout",
     "output_type": "stream",
     "text": [
      "2025-04-09 00:34:55.384592\n",
      "Training RBM using the original RBM code...\n",
      "RBM training complete.\n",
      "2025-04-09 10:09:57.986859\n",
      "2025-04-09 10:10:52.304735\n",
      "Training softmax classifier on RBM features...\n",
      "Iteration 0: Loss = 1.6264\n",
      "Iteration 100: Loss = 0.1396\n",
      "Iteration 200: Loss = 0.0969\n",
      "Iteration 300: Loss = 0.0810\n",
      "Iteration 400: Loss = 0.0720\n",
      "2025-04-09 10:28:57.456330\n",
      "------ Evaluation ------\n",
      "Detection Rate: 98.85%\n",
      "False Negative Rate: 1.15%\n",
      "Confusion Matrix (rows: true labels, columns: predicted labels):\n",
      "[[ 95492   1786]\n",
      " [  4582 392161]]\n",
      "2025-04-09 10:28:58.219867\n"
     ]
    }
   ],
   "source": [
    "n_visible = X_train_processed.shape[1]  # 122\n",
    "n_hidden = 50\n",
    "rbm = RBM(n_visible=n_visible, n_hidden=n_hidden)\n",
    "\n",
    "print(datetime.datetime.now())\n",
    "print(\"Training RBM using the original RBM code...\")\n",
    "rbm.fit(X_train_processed, iterations=20, learning_rate=0.01, cd_n=1)\n",
    "print(\"RBM training complete.\")\n",
    "print(datetime.datetime.now())\n",
    "\n",
    "\n",
    "def rbm_transform(rbm_instance, X):\n",
    "    H = []\n",
    "    for x in X:\n",
    "        h_prob = rbm_instance.h_probability(x)\n",
    "        H.append(h_prob)\n",
    "    return np.array(H)\n",
    "\n",
    "H_train = rbm_transform(rbm, X_train_processed)\n",
    "H_test = rbm_transform(rbm, X_test_processed)\n",
    "\n",
    "print(datetime.datetime.now())\n",
    "\n",
    "# softmax multiclass classification\n",
    "print(\"Training softmax classifier on RBM features...\")\n",
    "W_softmax, b_softmax = softmax_train(H_train, Y_train_onehot, lr=0.1, iterations=500, verbose=True)\n",
    "\n",
    "test_preds_idx = softmax_predict(H_test, W_softmax, b_softmax)\n",
    "test_preds_labels = [class_list[idx] for idx in test_preds_idx]\n",
    "\n",
    "# not normal -> attack\n",
    "test_preds_binary = np.array([\"normal\" if lbl == \"normal\" else \"attack\" for lbl in test_preds_labels])\n",
    "\n",
    "print(datetime.datetime.now())\n",
    "\n",
    "TP = np.sum((y_test_binary == \"attack\") & (test_preds_binary == \"attack\"))\n",
    "FN = np.sum((y_test_binary == \"attack\") & (test_preds_binary == \"normal\"))\n",
    "detection_rate = (TP / (TP + FN) * 100) if (TP + FN) > 0 else 0\n",
    "false_negative_rate = (FN / (TP + FN) * 100) if (TP + FN) > 0 else 0\n",
    "\n",
    "print(\"------ Evaluation ------\")\n",
    "print(f\"Detection Rate: {detection_rate:.2f}%\")\n",
    "print(f\"False Negative Rate: {false_negative_rate:.2f}%\")\n",
    "\n",
    "cm = confusion_matrix(y_test_binary, test_preds_binary, labels=[\"normal\", \"attack\"])\n",
    "print(\"Confusion Matrix (rows: true labels, columns: predicted labels):\")\n",
    "print(cm)\n",
    "\n",
    "print(datetime.datetime.now())"
   ]
  },
  {
   "cell_type": "code",
   "execution_count": 81,
   "id": "55a990ec",
   "metadata": {},
   "outputs": [
    {
     "name": "stdout",
     "output_type": "stream",
     "text": [
      "------ Evaluation binary ------\n",
      "Accuracy: 98.71%\n",
      "TP: 98.85%\n",
      "TN: 98.16%\n",
      "FP: 1.84%\n",
      "FN: 1.15%\n"
     ]
    }
   ],
   "source": [
    "TP = np.sum((y_test_binary == \"attack\") & (test_preds_binary == \"attack\"))\n",
    "FN = np.sum((y_test_binary == \"attack\") & (test_preds_binary == \"normal\"))\n",
    "TN = np.sum((y_test_binary == \"normal\") & (test_preds_binary == \"normal\"))\n",
    "FP = np.sum((y_test_binary == \"normal\") & (test_preds_binary == \"attack\"))\n",
    "\n",
    "total = len(y_test_binary)\n",
    "accuracy = ((TP + TN) / total) * 100\n",
    "\n",
    "TP_rate = (TP / (TP + FN)) * 100\n",
    "FN_rate = (FN / (TP + FN)) * 100\n",
    "TN_rate = (TN / (TN + FP)) * 100\n",
    "FP_rate = (FP / (TN + FP)) * 100\n",
    "\n",
    "print(\"------ Evaluation binary ------\")\n",
    "print(f\"Accuracy: {accuracy:.2f}%\")\n",
    "print(f\"TP (Detection rate): {TP_rate:.2f}%\")\n",
    "print(f\"TN: {TN_rate:.2f}%\")\n",
    "print(f\"FP: {FP_rate:.2f}%\")\n",
    "print(f\"FN: {FN_rate:.2f}%\")\n"
   ]
  },
  {
   "cell_type": "code",
   "execution_count": 93,
   "id": "555a8f74",
   "metadata": {},
   "outputs": [
    {
     "data": {
      "image/png": "[encoded data removed]",
      "text/plain": [
       "<Figure size 800x600 with 1 Axes>"
      ]
     },
     "metadata": {},
     "output_type": "display_data"
    }
   ],
   "source": [
    "import matplotlib.pyplot as plt\n",
    "from sklearn.metrics import roc_curve, auc\n",
    "\n",
    "logits = np.dot(H_test, W_softmax) + b_softmax\n",
    "probs = softmax(logits)\n",
    "\n",
    "normal_scores = probs[:, 0]  # probab of normal\n",
    "attack_scores = 1 - normal_scores\n",
    "\n",
    "\n",
    "y_true_attack = np.array([1 if label != \"normal\" else 0 for label in y_test_binary])\n",
    "y_true_normal = np.array([1 if label == \"normal\" else 0 for label in y_test_binary])\n",
    "\n",
    "fpr_attack, tpr_attack, _ = roc_curve(y_true_attack, attack_scores)\n",
    "roc_auc_attack = auc(fpr_attack, tpr_attack)\n",
    "\n",
    "fpr_normal, tpr_normal, _ = roc_curve(y_true_normal, normal_scores)\n",
    "roc_auc_normal = auc(fpr_normal, tpr_normal)\n",
    "\n",
    "plt.figure(figsize=(8, 6))\n",
    "plt.plot(fpr_attack, tpr_attack, color='red', lw=2,\n",
    "         label='Attack ROC curve (area = %0.2f)' % roc_auc_attack)\n",
    "plt.plot(fpr_normal, tpr_normal, color='blue', lw=2,\n",
    "         label='Normal ROC curve (area = %0.2f)' % roc_auc_normal)\n",
    "plt.plot([0, 1], [0, 1], color='gray', lw=2, linestyle='--')\n",
    "plt.xlabel('False Positive Rate')\n",
    "plt.ylabel('True Positive Rate')\n",
    "plt.title('ROC Curves for Attack and Normal Classes')\n",
    "plt.legend(loc=\"lower right\")\n",
    "plt.show()\n",
    "# overly optimistic"
   ]
  },
  {
   "cell_type": "code",
   "execution_count": 88,
   "id": "b1d67664",
   "metadata": {},
   "outputs": [
    {
     "name": "stdout",
     "output_type": "stream",
     "text": [
      "------ Evaluation multiclass ------\n",
      "Attack Class  Number of Attacks  Accurately Classified Accuracy\n",
      "      normal              97278                  95492   98.16%\n",
      "         DoS             391458                 388230   99.18%\n",
      "     Probing               4107                      0    0.00%\n",
      "         R2L               1126                      0    0.00%\n",
      "         U2R                 52                      0    0.00%\n",
      "       Total             494021                 483722   97.92%\n"
     ]
    }
   ],
   "source": [
    "print(\"------ Evaluation multiclass ------\")\n",
    "\n",
    "y_test_mapped = np.array([map_label(label) for label in y_test])\n",
    "\n",
    "results = []\n",
    "for cls in class_order:\n",
    "    total = np.sum(y_test_mapped == cls)\n",
    "    correct = np.sum((y_test_mapped == cls) & (np.array(test_preds_labels) == cls))\n",
    "    accuracy = (correct / total * 100) if total > 0 else 0\n",
    "    results.append({\n",
    "        \"Attack Class\": cls,\n",
    "        \"Number of Attacks\": total,\n",
    "        \"Accurately Classified\": correct,\n",
    "        \"Accuracy\": f\"{accuracy:.2f}%\"\n",
    "    })\n",
    "\n",
    "df_results = pd.DataFrame(results)\n",
    "\n",
    "total_attacks = df_results[\"Number of Attacks\"].sum()\n",
    "total_correct = df_results[\"Accurately Classified\"].sum()\n",
    "overall_accuracy = (total_correct / total_attacks * 100) if total_attacks > 0 else 0\n",
    "\n",
    "total_row = {\n",
    "    \"Attack Class\": \"Total\",\n",
    "    \"Number of Attacks\": total_attacks,\n",
    "    \"Accurately Classified\": total_correct,\n",
    "    \"Accuracy\": f\"{overall_accuracy:.2f}%\"\n",
    "}\n",
    "df_results = pd.concat([df_results, pd.DataFrame([total_row])], ignore_index=True)\n",
    "print(df_results.to_string(index=False))"
   ]
  }
 ],
 "metadata": {
  "kernelspec": {
   "display_name": "Python 3 (ipykernel)",
   "language": "python",
   "name": "python3"
  },
  "language_info": {
   "codemirror_mode": {
    "name": "ipython",
    "version": 3
   },
   "file_extension": ".py",
   "mimetype": "text/x-python",
   "name": "python",
   "nbconvert_exporter": "python",
   "pygments_lexer": "ipython3",
   "version": "3.11.11"
  }
 },
 "nbformat": 4,
 "nbformat_minor": 5
}
