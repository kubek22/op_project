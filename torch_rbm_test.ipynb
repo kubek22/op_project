{
 "cells": [
  {
   "cell_type": "code",
   "id": "initial_id",
   "metadata": {
    "collapsed": true,
    "ExecuteTime": {
     "end_time": "2025-05-12T18:43:59.641179Z",
     "start_time": "2025-05-12T18:43:58.548043Z"
    }
   },
   "source": [
    "import torch\n",
    "from torch_rbm import RBM\n",
    "import datetime\n",
    "from torch.utils.data import TensorDataset, DataLoader"
   ],
   "outputs": [],
   "execution_count": 1
  },
  {
   "metadata": {
    "ExecuteTime": {
     "end_time": "2025-05-12T18:43:59.672717Z",
     "start_time": "2025-05-12T18:43:59.641179Z"
    }
   },
   "cell_type": "code",
   "source": [
    "device = torch.device(\"cuda\" if torch.cuda.is_available() else \"cpu\")\n",
    "device"
   ],
   "id": "fa18bfa223622864",
   "outputs": [
    {
     "data": {
      "text/plain": [
       "device(type='cuda')"
      ]
     },
     "execution_count": 2,
     "metadata": {},
     "output_type": "execute_result"
    }
   ],
   "execution_count": 2
  },
  {
   "metadata": {},
   "cell_type": "markdown",
   "source": "## Generating data",
   "id": "812a1f09cab6065f"
  },
  {
   "metadata": {
    "ExecuteTime": {
     "end_time": "2025-05-12T18:44:00.209032Z",
     "start_time": "2025-05-12T18:43:59.758353Z"
    }
   },
   "cell_type": "code",
   "source": [
    "n_samples = 400000\n",
    "n_features = 200\n",
    "X_torch = torch.randn((n_samples, n_features)).double().to(device)\n",
    "X_torch"
   ],
   "id": "3a0cc71e21b62211",
   "outputs": [
    {
     "data": {
      "text/plain": [
       "tensor([[-1.4849, -0.6042,  0.7553,  ...,  1.6594,  0.2457,  1.3085],\n",
       "        [ 1.3495, -0.1155,  1.6560,  ..., -0.7307, -0.7750,  1.9690],\n",
       "        [ 0.0040, -0.5481, -1.3080,  ..., -1.3670,  0.1336, -0.5061],\n",
       "        ...,\n",
       "        [ 0.7303,  0.5366,  0.4291,  ..., -1.1476, -0.0991, -0.2695],\n",
       "        [-1.3024, -1.7456, -1.5121,  ..., -1.6333,  0.1907,  0.9461],\n",
       "        [-0.5566,  1.0601, -0.6689,  ...,  0.4057, -0.6471,  0.0068]],\n",
       "       device='cuda:0', dtype=torch.float64)"
      ]
     },
     "execution_count": 3,
     "metadata": {},
     "output_type": "execute_result"
    }
   ],
   "execution_count": 3
  },
  {
   "metadata": {
    "ExecuteTime": {
     "end_time": "2025-05-12T18:44:01.052372Z",
     "start_time": "2025-05-12T18:44:01.001885Z"
    }
   },
   "cell_type": "code",
   "source": [
    "X = X_torch.cpu().numpy()\n",
    "X"
   ],
   "id": "83da606cc887b7",
   "outputs": [
    {
     "data": {
      "text/plain": [
       "array([[-1.48493147, -0.60423499,  0.75533748, ...,  1.6593852 ,\n",
       "         0.24572684,  1.30853474],\n",
       "       [ 1.34954309, -0.11546513,  1.65602481, ..., -0.73069572,\n",
       "        -0.77499789,  1.96895468],\n",
       "       [ 0.00403877, -0.54810733, -1.30795586, ..., -1.36702943,\n",
       "         0.13361412, -0.50608599],\n",
       "       ...,\n",
       "       [ 0.73033565,  0.53662759,  0.42905492, ..., -1.14755464,\n",
       "        -0.09907331, -0.26950124],\n",
       "       [-1.3023591 , -1.74559462, -1.51206279, ..., -1.63334191,\n",
       "         0.19068046,  0.94605964],\n",
       "       [-0.55663329,  1.06005466, -0.66893256, ...,  0.40574101,\n",
       "        -0.64714688,  0.00682644]])"
      ]
     },
     "execution_count": 4,
     "metadata": {},
     "output_type": "execute_result"
    }
   ],
   "execution_count": 4
  },
  {
   "metadata": {
    "ExecuteTime": {
     "end_time": "2025-05-12T18:44:01.077753Z",
     "start_time": "2025-05-12T18:44:01.074856Z"
    }
   },
   "cell_type": "code",
   "source": [
    "# Assume X is a torch tensor, e.g., shape (N, D)\n",
    "dataset = TensorDataset(X_torch)\n",
    "dataloader = DataLoader(dataset, batch_size=64, shuffle=True)"
   ],
   "id": "6c310ac94a104979",
   "outputs": [],
   "execution_count": 5
  },
  {
   "metadata": {},
   "cell_type": "markdown",
   "source": "## Initialize RBM",
   "id": "322d4fcab0811260"
  },
  {
   "metadata": {
    "ExecuteTime": {
     "end_time": "2025-05-12T18:44:01.142835Z",
     "start_time": "2025-05-12T18:44:01.136872Z"
    }
   },
   "cell_type": "code",
   "source": [
    "n_visible = n_features\n",
    "n_hidden = n_visible // 2\n",
    "rbm = RBM(n_visible, n_hidden, device)\n",
    "rbm = rbm.to(device)"
   ],
   "id": "afca9c8d1625ce4a",
   "outputs": [],
   "execution_count": 6
  },
  {
   "metadata": {},
   "cell_type": "markdown",
   "source": "## Testing methods",
   "id": "410e57b6dc6b42e9"
  },
  {
   "metadata": {
    "ExecuteTime": {
     "end_time": "2025-05-08T15:19:10.267449Z",
     "start_time": "2025-05-08T15:19:10.261667Z"
    }
   },
   "cell_type": "code",
   "source": [
    "v = torch.randn(n_visible)\n",
    "rbm.h_probability(v)"
   ],
   "id": "cef5d244a756817b",
   "outputs": [
    {
     "data": {
      "text/plain": [
       "tensor([0.5000, 0.5000, 0.5000, 0.5000, 0.5000], device='cuda:0')"
      ]
     },
     "execution_count": 10,
     "metadata": {},
     "output_type": "execute_result"
    }
   ],
   "execution_count": 10
  },
  {
   "metadata": {
    "ExecuteTime": {
     "end_time": "2025-05-08T15:19:15.078222Z",
     "start_time": "2025-05-08T15:19:15.071450Z"
    }
   },
   "cell_type": "code",
   "source": [
    "v = torch.randn((1, n_visible))\n",
    "rbm.h_probability(v)"
   ],
   "id": "590a6e0692a05229",
   "outputs": [
    {
     "data": {
      "text/plain": [
       "tensor([[0.5000, 0.5000, 0.5000, 0.5000, 0.5000]], device='cuda:0')"
      ]
     },
     "execution_count": 11,
     "metadata": {},
     "output_type": "execute_result"
    }
   ],
   "execution_count": 11
  },
  {
   "metadata": {
    "ExecuteTime": {
     "end_time": "2025-05-08T16:05:53.881070Z",
     "start_time": "2025-05-08T16:05:53.750436Z"
    }
   },
   "cell_type": "code",
   "source": [
    "for batch in dataloader:\n",
    "    v = batch[0].to(device)\n",
    "    prob = rbm.h_probability(v)\n",
    "    print(prob)\n",
    "    break"
   ],
   "id": "bde21ef161b760a8",
   "outputs": [
    {
     "name": "stdout",
     "output_type": "stream",
     "text": [
      "tensor([[0.5000, 0.5000, 0.5000,  ..., 0.5000, 0.5000, 0.5000],\n",
      "        [0.5000, 0.5000, 0.5000,  ..., 0.5000, 0.5000, 0.5000],\n",
      "        [0.5000, 0.5000, 0.5000,  ..., 0.5000, 0.5000, 0.5000],\n",
      "        ...,\n",
      "        [0.5000, 0.5000, 0.5000,  ..., 0.5000, 0.5000, 0.5000],\n",
      "        [0.5000, 0.5000, 0.5000,  ..., 0.5000, 0.5000, 0.5000],\n",
      "        [0.5000, 0.5000, 0.5000,  ..., 0.5000, 0.5000, 0.5000]],\n",
      "       device='cuda:0')\n"
     ]
    }
   ],
   "execution_count": 7
  },
  {
   "metadata": {
    "ExecuteTime": {
     "end_time": "2025-05-08T16:01:22.246356Z",
     "start_time": "2025-05-08T16:01:22.239815Z"
    }
   },
   "cell_type": "code",
   "source": "prob.shape",
   "id": "8b91868e49ad5786",
   "outputs": [
    {
     "data": {
      "text/plain": [
       "torch.Size([64, 100])"
      ]
     },
     "execution_count": 10,
     "metadata": {},
     "output_type": "execute_result"
    }
   ],
   "execution_count": 10
  },
  {
   "metadata": {
    "ExecuteTime": {
     "end_time": "2025-05-08T15:19:48.213526Z",
     "start_time": "2025-05-08T15:19:48.206502Z"
    }
   },
   "cell_type": "code",
   "source": [
    "h = torch.randn(n_hidden)\n",
    "rbm.v_probability(h)"
   ],
   "id": "bbf274c1ab3e83e9",
   "outputs": [
    {
     "data": {
      "text/plain": [
       "tensor([0.5000, 0.5000, 0.5000, 0.5000, 0.5000, 0.5000, 0.5000, 0.5000, 0.5000,\n",
       "        0.5000], device='cuda:0')"
      ]
     },
     "execution_count": 12,
     "metadata": {},
     "output_type": "execute_result"
    }
   ],
   "execution_count": 12
  },
  {
   "metadata": {
    "ExecuteTime": {
     "end_time": "2025-05-08T15:21:07.023942Z",
     "start_time": "2025-05-08T15:21:07.018883Z"
    }
   },
   "cell_type": "code",
   "source": [
    "v = torch.randn(n_visible)\n",
    "rbm.draw_hidden(v)"
   ],
   "id": "df586caaa79c3052",
   "outputs": [
    {
     "data": {
      "text/plain": [
       "tensor([1., 1., 1., 0., 1.], device='cuda:0')"
      ]
     },
     "execution_count": 26,
     "metadata": {},
     "output_type": "execute_result"
    }
   ],
   "execution_count": 26
  },
  {
   "metadata": {
    "ExecuteTime": {
     "end_time": "2025-05-08T15:21:21.115511Z",
     "start_time": "2025-05-08T15:21:21.108146Z"
    }
   },
   "cell_type": "code",
   "source": [
    "h = torch.randn(n_hidden)\n",
    "rbm.draw_visible(h)"
   ],
   "id": "34541014b7159242",
   "outputs": [
    {
     "data": {
      "text/plain": [
       "tensor([0., 0., 1., 0., 1., 1., 0., 0., 1., 1.], device='cuda:0')"
      ]
     },
     "execution_count": 27,
     "metadata": {},
     "output_type": "execute_result"
    }
   ],
   "execution_count": 27
  },
  {
   "metadata": {
    "ExecuteTime": {
     "end_time": "2025-05-08T15:22:17.090173Z",
     "start_time": "2025-05-08T15:22:17.080318Z"
    }
   },
   "cell_type": "code",
   "source": [
    "h = torch.randn(n_hidden)\n",
    "n_gs = 10\n",
    "rbm.gibbs_sampling(n_gs, h)"
   ],
   "id": "52171e2b86c3fc17",
   "outputs": [
    {
     "data": {
      "text/plain": [
       "(tensor([0., 1., 1., 0., 1., 1., 0., 0., 0., 0.], device='cuda:0'),\n",
       " tensor([1., 0., 1., 1., 0.], device='cuda:0'))"
      ]
     },
     "execution_count": 29,
     "metadata": {},
     "output_type": "execute_result"
    }
   ],
   "execution_count": 29
  },
  {
   "metadata": {},
   "cell_type": "markdown",
   "source": "## Training model",
   "id": "1569f75896e9495b"
  },
  {
   "metadata": {
    "ExecuteTime": {
     "end_time": "2025-05-12T18:44:05.010205Z",
     "start_time": "2025-05-12T18:44:01.152595Z"
    }
   },
   "cell_type": "code",
   "source": [
    "print(datetime.datetime.now())\n",
    "print(\"Training...\")\n",
    "rbm.fit(X_torch, iterations=1, learning_rate=0.01, cd_n=1, verbose=True)\n",
    "print(\"Training finished\")\n",
    "print(datetime.datetime.now())"
   ],
   "id": "56af25bdf2054546",
   "outputs": [
    {
     "name": "stdout",
     "output_type": "stream",
     "text": [
      "2025-05-12 20:44:01.152595\n",
      "Training...\n",
      "Iteration: 1 of 1\n",
      "Training finished\n",
      "2025-05-12 20:44:05.008292\n"
     ]
    }
   ],
   "execution_count": 7
  },
  {
   "metadata": {
    "ExecuteTime": {
     "end_time": "2025-05-12T18:44:05.649357Z",
     "start_time": "2025-05-12T18:44:05.641748Z"
    }
   },
   "cell_type": "code",
   "source": "torch.save(rbm.state_dict(), 'test_model_weights.pth')",
   "id": "d1c4c5b199f2ee4e",
   "outputs": [],
   "execution_count": 8
  },
  {
   "metadata": {
    "ExecuteTime": {
     "end_time": "2025-05-12T18:44:06.790662Z",
     "start_time": "2025-05-12T18:44:06.766743Z"
    }
   },
   "cell_type": "code",
   "source": [
    "rbm = RBM(n_visible, n_hidden, device)\n",
    "rbm.load_state_dict(torch.load('test_model_weights.pth'))"
   ],
   "id": "f9ca4521c49f175b",
   "outputs": [],
   "execution_count": 9
  },
  {
   "metadata": {
    "ExecuteTime": {
     "end_time": "2025-05-12T18:48:43.817575Z",
     "start_time": "2025-05-12T18:44:10.698721Z"
    }
   },
   "cell_type": "code",
   "source": [
    "print(datetime.datetime.now())\n",
    "print(\"Training...\")\n",
    "rbm.fit(X_torch, iterations=2, learning_rate=0.01, cd_n=1, batch_size=1, verbose=True)\n",
    "print(\"Training finished\")\n",
    "print(datetime.datetime.now())"
   ],
   "id": "35c90cfb9636da4b",
   "outputs": [
    {
     "name": "stdout",
     "output_type": "stream",
     "text": [
      "2025-05-12 20:44:10.698721\n",
      "Training...\n",
      "Iteration: 1 of 2\n",
      "Iteration: 2 of 2\n",
      "Training finished\n",
      "2025-05-12 20:48:43.808715\n"
     ]
    }
   ],
   "execution_count": 10
  },
  {
   "metadata": {
    "ExecuteTime": {
     "end_time": "2025-05-08T16:50:00.741437Z",
     "start_time": "2025-05-08T16:47:25.600726Z"
    }
   },
   "cell_type": "code",
   "source": [
    "print(datetime.datetime.now())\n",
    "print(\"Training...\")\n",
    "rbm.fit(X_torch, iterations=2, learning_rate=0.01, cd_n=1, batch_size=2, verbose=True)\n",
    "print(\"Training finished\")\n",
    "print(datetime.datetime.now())"
   ],
   "id": "354778739ba42431",
   "outputs": [
    {
     "name": "stdout",
     "output_type": "stream",
     "text": [
      "2025-05-08 18:47:25.600726\n",
      "Training...\n",
      "Iteration: 1 of 2\n",
      "Iteration: 2 of 2\n",
      "Training finished\n",
      "2025-05-08 18:50:00.738603\n"
     ]
    }
   ],
   "execution_count": 23
  },
  {
   "metadata": {
    "ExecuteTime": {
     "end_time": "2025-05-08T17:20:50.186260Z",
     "start_time": "2025-05-08T16:54:59.761393Z"
    }
   },
   "cell_type": "code",
   "source": [
    "print(datetime.datetime.now())\n",
    "print(\"Training...\")\n",
    "rbm.fit(X_torch, iterations=20, learning_rate=0.01, cd_n=1, batch_size=2, verbose=True)\n",
    "print(\"Training finished\")\n",
    "print(datetime.datetime.now())"
   ],
   "id": "df039d7efaf9a398",
   "outputs": [
    {
     "name": "stdout",
     "output_type": "stream",
     "text": [
      "2025-05-08 18:54:59.761393\n",
      "Training...\n",
      "Iteration: 1 of 20\n",
      "Iteration: 2 of 20\n",
      "Iteration: 3 of 20\n",
      "Iteration: 4 of 20\n",
      "Iteration: 5 of 20\n",
      "Iteration: 6 of 20\n",
      "Iteration: 7 of 20\n",
      "Iteration: 8 of 20\n",
      "Iteration: 9 of 20\n",
      "Iteration: 10 of 20\n",
      "Iteration: 11 of 20\n",
      "Iteration: 12 of 20\n",
      "Iteration: 13 of 20\n",
      "Iteration: 14 of 20\n",
      "Iteration: 15 of 20\n",
      "Iteration: 16 of 20\n",
      "Iteration: 17 of 20\n",
      "Iteration: 18 of 20\n",
      "Iteration: 19 of 20\n",
      "Iteration: 20 of 20\n",
      "Training finished\n",
      "2025-05-08 19:20:50.174012\n"
     ]
    }
   ],
   "execution_count": 24
  },
  {
   "metadata": {
    "ExecuteTime": {
     "end_time": "2025-05-08T17:24:57.683179Z",
     "start_time": "2025-05-08T17:22:06.788539Z"
    }
   },
   "cell_type": "code",
   "source": [
    "print(datetime.datetime.now())\n",
    "print(\"Training...\")\n",
    "rbm.fit(X_torch, iterations=100, learning_rate=0.01, cd_n=1, batch_size=256, verbose=True)\n",
    "print(\"Training finished\")\n",
    "print(datetime.datetime.now())"
   ],
   "id": "a03b3c6ac76806a9",
   "outputs": [
    {
     "name": "stdout",
     "output_type": "stream",
     "text": [
      "2025-05-08 19:22:06.802462\n",
      "Training...\n",
      "Iteration: 1 of 100\n",
      "Iteration: 2 of 100\n",
      "Iteration: 3 of 100\n",
      "Iteration: 4 of 100\n",
      "Iteration: 5 of 100\n",
      "Iteration: 6 of 100\n",
      "Iteration: 7 of 100\n",
      "Iteration: 8 of 100\n",
      "Iteration: 9 of 100\n",
      "Iteration: 10 of 100\n",
      "Iteration: 11 of 100\n",
      "Iteration: 12 of 100\n",
      "Iteration: 13 of 100\n",
      "Iteration: 14 of 100\n",
      "Iteration: 15 of 100\n",
      "Iteration: 16 of 100\n",
      "Iteration: 17 of 100\n",
      "Iteration: 18 of 100\n",
      "Iteration: 19 of 100\n",
      "Iteration: 20 of 100\n",
      "Iteration: 21 of 100\n",
      "Iteration: 22 of 100\n",
      "Iteration: 23 of 100\n",
      "Iteration: 24 of 100\n",
      "Iteration: 25 of 100\n",
      "Iteration: 26 of 100\n",
      "Iteration: 27 of 100\n",
      "Iteration: 28 of 100\n",
      "Iteration: 29 of 100\n",
      "Iteration: 30 of 100\n",
      "Iteration: 31 of 100\n",
      "Iteration: 32 of 100\n",
      "Iteration: 33 of 100\n",
      "Iteration: 34 of 100\n",
      "Iteration: 35 of 100\n",
      "Iteration: 36 of 100\n",
      "Iteration: 37 of 100\n",
      "Iteration: 38 of 100\n",
      "Iteration: 39 of 100\n",
      "Iteration: 40 of 100\n",
      "Iteration: 41 of 100\n",
      "Iteration: 42 of 100\n",
      "Iteration: 43 of 100\n",
      "Iteration: 44 of 100\n",
      "Iteration: 45 of 100\n",
      "Iteration: 46 of 100\n",
      "Iteration: 47 of 100\n",
      "Iteration: 48 of 100\n",
      "Iteration: 49 of 100\n",
      "Iteration: 50 of 100\n",
      "Iteration: 51 of 100\n",
      "Iteration: 52 of 100\n",
      "Iteration: 53 of 100\n",
      "Iteration: 54 of 100\n",
      "Iteration: 55 of 100\n",
      "Iteration: 56 of 100\n",
      "Iteration: 57 of 100\n",
      "Iteration: 58 of 100\n",
      "Iteration: 59 of 100\n",
      "Iteration: 60 of 100\n",
      "Iteration: 61 of 100\n",
      "Iteration: 62 of 100\n",
      "Iteration: 63 of 100\n",
      "Iteration: 64 of 100\n",
      "Iteration: 65 of 100\n",
      "Iteration: 66 of 100\n",
      "Iteration: 67 of 100\n",
      "Iteration: 68 of 100\n",
      "Iteration: 69 of 100\n",
      "Iteration: 70 of 100\n",
      "Iteration: 71 of 100\n",
      "Iteration: 72 of 100\n",
      "Iteration: 73 of 100\n",
      "Iteration: 74 of 100\n",
      "Iteration: 75 of 100\n",
      "Iteration: 76 of 100\n",
      "Iteration: 77 of 100\n",
      "Iteration: 78 of 100\n",
      "Iteration: 79 of 100\n",
      "Iteration: 80 of 100\n",
      "Iteration: 81 of 100\n",
      "Iteration: 82 of 100\n",
      "Iteration: 83 of 100\n",
      "Iteration: 84 of 100\n",
      "Iteration: 85 of 100\n",
      "Iteration: 86 of 100\n",
      "Iteration: 87 of 100\n",
      "Iteration: 88 of 100\n",
      "Iteration: 89 of 100\n",
      "Iteration: 90 of 100\n",
      "Iteration: 91 of 100\n",
      "Iteration: 92 of 100\n",
      "Iteration: 93 of 100\n",
      "Iteration: 94 of 100\n",
      "Iteration: 95 of 100\n",
      "Iteration: 96 of 100\n",
      "Iteration: 97 of 100\n",
      "Iteration: 98 of 100\n",
      "Iteration: 99 of 100\n",
      "Iteration: 100 of 100\n",
      "Training finished\n",
      "2025-05-08 19:24:57.677392\n"
     ]
    }
   ],
   "execution_count": 25
  }
 ],
 "metadata": {
  "kernelspec": {
   "display_name": "Python 3",
   "language": "python",
   "name": "python3"
  },
  "language_info": {
   "codemirror_mode": {
    "name": "ipython",
    "version": 2
   },
   "file_extension": ".py",
   "mimetype": "text/x-python",
   "name": "python",
   "nbconvert_exporter": "python",
   "pygments_lexer": "ipython2",
   "version": "2.7.6"
  }
 },
 "nbformat": 4,
 "nbformat_minor": 5
}
